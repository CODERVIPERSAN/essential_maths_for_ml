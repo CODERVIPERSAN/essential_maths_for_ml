{
 "cells": [
  {
   "cell_type": "code",
   "execution_count": 72,
   "metadata": {},
   "outputs": [
    {
     "name": "stdout",
     "output_type": "stream",
     "text": [
      "[2 1 4]\n"
     ]
    }
   ],
   "source": [
    "import numpy as np\n",
    "\n",
    "v1 = np.array([1,2,3])\n",
    "v2 = np.array([1,-1,1])\n",
    " \n",
    "print(v1 + v2)"
   ]
  },
  {
   "cell_type": "code",
   "execution_count": 73,
   "metadata": {},
   "outputs": [
    {
     "name": "stdout",
     "output_type": "stream",
     "text": [
      "6.928203230275509\n"
     ]
    },
    {
     "data": {
      "text/plain": [
       "1.7320508075688772"
      ]
     },
     "execution_count": 73,
     "metadata": {},
     "output_type": "execute_result"
    }
   ],
   "source": [
    "v3 = 4*v2\n",
    "v3\n",
    "print(np.linalg.norm(v3))\n",
    "\n",
    "np.linalg.norm(v2)"
   ]
  },
  {
   "cell_type": "code",
   "execution_count": null,
   "metadata": {},
   "outputs": [],
   "source": []
  },
  {
   "cell_type": "code",
   "execution_count": 74,
   "metadata": {},
   "outputs": [
    {
     "data": {
      "text/plain": [
       "12"
      ]
     },
     "execution_count": 74,
     "metadata": {},
     "output_type": "execute_result"
    }
   ],
   "source": [
    "np.dot(v2,v3)"
   ]
  },
  {
   "cell_type": "code",
   "execution_count": 80,
   "metadata": {},
   "outputs": [
    {
     "name": "stdout",
     "output_type": "stream",
     "text": [
      "[[ 34 -36  27]\n",
      " [  4  -6   3]\n",
      " [ 10 -10   8]]\n",
      "[[ 0.  0.  0.]\n",
      " [ 0.  0.  0.]\n",
      " [ 0. -4. -8.]]\n"
     ]
    }
   ],
   "source": [
    "#Matrix\n",
    "p = np.array([[20,7],[2,1],[6,2]])\n",
    "q = np.array([[1,2],[1,-8],[1,1]])\n",
    "# print(np.add(p,q))\n",
    "# print(p+q)\n",
    "# print(np.subtract(p,q))\n",
    "# print(p-q)\n",
    "q = np.transpose(q)\n",
    "value =np.linalg.det(np.dot(p,q))\n",
    "# print(value)\n",
    "\n",
    "\n",
    "mat = np.dot(p,q)\n",
    "print(mat)\n",
    "invmat = np.linalg.inv(mat)\n",
    "print(np.matmul(mat,invmat))"
   ]
  }
 ],
 "metadata": {
  "kernelspec": {
   "display_name": "Python 3.10.4 ('ml_practice')",
   "language": "python",
   "name": "python3"
  },
  "language_info": {
   "codemirror_mode": {
    "name": "ipython",
    "version": 3
   },
   "file_extension": ".py",
   "mimetype": "text/x-python",
   "name": "python",
   "nbconvert_exporter": "python",
   "pygments_lexer": "ipython3",
   "version": "3.10.4"
  },
  "orig_nbformat": 4,
  "vscode": {
   "interpreter": {
    "hash": "a4473c48ff42180cfc461392fba8798230cebf9eedf336e6582cf3831f374935"
   }
  }
 },
 "nbformat": 4,
 "nbformat_minor": 2
}
