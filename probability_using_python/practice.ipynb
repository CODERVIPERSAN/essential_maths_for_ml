{
 "cells": [
  {
   "cell_type": "markdown",
   "metadata": {},
   "source": [
    "<style>\n",
    "\n",
    ".apply {\n",
    "  background-color: #970;\n",
    "\n",
    "  /* font-weight:700; */\n",
    "  /* font-size: 30px; */\n",
    "  font: white;\n",
    "  text-align: center;\n",
    "}\n",
    "\n",
    "</style>\n",
    "\n",
    "<div class=\"apply\">\n",
    "    <h1>Probability in Python</h1>\n",
    "</div>\n",
    "<!-- <strong><h1 style=\"font-style:;text-align:center;background-color:#970\">Probability Practice</h1></strong> -->\n",
    "\n"
   ]
  },
  {
   "cell_type": "code",
   "execution_count": 36,
   "metadata": {},
   "outputs": [],
   "source": [
    "import numpy as np"
   ]
  },
  {
   "cell_type": "markdown",
   "metadata": {},
   "source": [
    "<style>\n",
    "\n",
    ".apply {\n",
    "  background-color: #970;\n",
    "\n",
    "  /* font-weight:700; */\n",
    "  /* font-size: 30px; */\n",
    "  font: white;\n",
    "  \n",
    "}\n",
    "</style>\n",
    "\n",
    "\n",
    "<pre class=\"apply\"> \n",
    "Terminal iam using\n",
    "   essential_maths_for_ml   git:(main2) ✗ cd ../\n",
    "   essential_maths_for_ml cd essential_maths_for_ml \n",
    "   essential_maths_for_ml   git:(main2) ✗ dir\n",
    "practice.ipynb  probability_using_python\n",
    "   essential_maths_for_ml   git:(main2) ✗ cd  p</pre>"
   ]
  },
  {
   "cell_type": "code",
   "execution_count": 37,
   "metadata": {},
   "outputs": [
    {
     "name": "stdout",
     "output_type": "stream",
     "text": [
      "1 0.2\n",
      "2 0.8\n"
     ]
    }
   ],
   "source": [
    "def uniform(n,m):\n",
    "    return np.random.randint(1,n+1,size=m)\n",
    "\n",
    "\n",
    "\n",
    "\n",
    "# Monte carlo problem\n",
    "def relative_frequency(n,m):\n",
    "    li1 = uniform(n,m)\n",
    "    for i in range(1,n+1):\n",
    "        print(i,list(li1).count(i)/m)\n",
    "\n",
    "\n",
    "relative_frequency(2,10)\n",
    " \n",
    " \n",
    "    \n",
    "\n"
   ]
  },
  {
   "cell_type": "markdown",
   "metadata": {},
   "source": [
    "<style>\n",
    "\n",
    ".apply {\n",
    "  background-color: #970;\n",
    "\n",
    "  /* font-weight:700; */\n",
    "  /* font-size: 30px; */\n",
    "  font: white;\n",
    "  text-align: center;\n",
    "}\n",
    "\n",
    "</style>\n",
    "\n",
    "<div class=\"apply\">\n",
    "    <h2> birthday Problem(uniform distribution)</h2>\n",
    "</div>\n",
    "<!-- <strong><h1 style=\"font-style:;text-align:center;background-color:#970\">Probability Practice</h1></strong> -->\n",
    "\n"
   ]
  },
  {
   "cell_type": "code",
   "execution_count": 106,
   "metadata": {},
   "outputs": [
    {
     "name": "stdout",
     "output_type": "stream",
     "text": [
      "0.119\n",
      "0.11694817771107768\n"
     ]
    }
   ],
   "source": [
    "#10 peoples\n",
    "prob = 1- np.prod(1-np.arange(1,10)/365)\n",
    "no=0\n",
    "for i in range(10000):\n",
    "    b =np.zeros(366)\n",
    "    for i in range(10):\n",
    "        b1 =uniform(365,1)\n",
    "        if b[b1]==0:\n",
    "            b[b1]=1\n",
    "        else:\n",
    "            no+=1\n",
    "            break\n",
    "\n",
    "print(no/10000)\n",
    "print(prob)"
   ]
  },
  {
   "cell_type": "code",
   "execution_count": null,
   "metadata": {},
   "outputs": [],
   "source": []
  }
 ],
 "metadata": {
  "kernelspec": {
   "display_name": "Python 3.10.4 ('ml_practice')",
   "language": "python",
   "name": "python3"
  },
  "language_info": {
   "codemirror_mode": {
    "name": "ipython",
    "version": 3
   },
   "file_extension": ".py",
   "mimetype": "text/x-python",
   "name": "python",
   "nbconvert_exporter": "python",
   "pygments_lexer": "ipython3",
   "version": "3.10.4"
  },
  "orig_nbformat": 4,
  "vscode": {
   "interpreter": {
    "hash": "a4473c48ff42180cfc461392fba8798230cebf9eedf336e6582cf3831f374935"
   }
  }
 },
 "nbformat": 4,
 "nbformat_minor": 2
}
